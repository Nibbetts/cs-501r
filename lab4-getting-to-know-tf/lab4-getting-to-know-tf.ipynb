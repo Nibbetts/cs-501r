{
 "cells": [
  {
   "cell_type": "code",
   "execution_count": null,
   "metadata": {
    "collapsed": true
   },
   "outputs": [],
   "source": [
    "import numpy as np\n",
    "import tensorflow as tf\n",
    "\n",
    "with tf.name_scope(\"noisy_line\") as scope:\n",
    "    # Simulate Noisy Line\n",
    "    x = tf.placeholder(type=tf.float32, shape=[None,None], name='x')*(-6.7)\n",
    "    noise = tf.placeholder(type=tf.float32, shape=[None,None], name='x')+2\n",
    "    y = tf.add(x,noise)\n",
    "    \n",
    "writer = tf.summary.FileWriter(\"~/cs501r\")"
   ]
  }
 ],
 "metadata": {
  "kernelspec": {
   "display_name": "Python 2",
   "language": "python",
   "name": "python2"
  },
  "language_info": {
   "codemirror_mode": {
    "name": "ipython",
    "version": 2
   },
   "file_extension": ".py",
   "mimetype": "text/x-python",
   "name": "python",
   "nbconvert_exporter": "python",
   "pygments_lexer": "ipython2",
   "version": "2.7.13"
  }
 },
 "nbformat": 4,
 "nbformat_minor": 2
}
